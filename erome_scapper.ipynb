{
  "nbformat": 4,
  "nbformat_minor": 0,
  "metadata": {
    "colab": {
      "provenance": []
    },
    "kernelspec": {
      "name": "python3",
      "display_name": "Python 3"
    },
    "language_info": {
      "name": "python"
    }
  },
  "cells": [
    {
      "cell_type": "code",
      "source": [
        "import os\n",
        "from google.colab import files\n",
        "\n",
        "# Install eromedownloader\n",
        "!pip install eromedownloader\n",
        "\n",
        "# Prompt user for Erome URL\n",
        "url = input(\"Enter the Erome album URL to scrape: \")\n",
        "\n",
        "# Run download command with user-provided URL\n",
        "!python -m eromedownloader --url {url} --path /content/erome_album\n",
        "\n",
        "# Check downloaded files\n",
        "!ls -l /content/erome_album\n",
        "\n",
        "# Zip and download\n",
        "!zip -r /content/erome_album.zip /content/erome_album\n",
        "files.download('/content/erome_album.zip')"
      ],
      "metadata": {
        "id": "OZpnLToIdKGV"
      },
      "execution_count": null,
      "outputs": []
    },
    {
      "cell_type": "code",
      "source": [],
      "metadata": {
        "id": "d8EkmmHuhjYO"
      },
      "execution_count": null,
      "outputs": []
    }
  ]
}