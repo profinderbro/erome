{
  "cells": [
    {
      "cell_type": "code",
      "execution_count": null,
      "metadata": {
        "id": "OZpnLToIdKGV"
      },
      "outputs": [],
      "source": [
        "import os\n",
        "from google.colab import files\n",
        "\n",
        "# Install eromedownloader\n",
        "!pip install eromedownloader -q\n",
        "\n",
        "# Prompt user for Erome URL\n",
        "url = input(\"Enter the Erome album URL to scrape: \")\n",
        "\n",
        "# Run download command with user-provided URL\n",
        "!python -m eromedownloader --url {url} --path /content/erome_album\n",
        "\n",
        "# Check downloaded files\n",
        "!ls -l /content/erome_album\n",
        "\n",
        "# Zip and download\n",
        "!zip -r /content/erome_album.zip /content/erome_album\n",
        "files.download('/content/erome_album.zip')"
      ]
    }
  ],
  "metadata": {
    "colab": {
      "provenance": []
    },
    "kernelspec": {
      "display_name": "Python 3",
      "name": "python3"
    },
    "language_info": {
      "name": "python"
    }
  },
  "nbformat": 4,
  "nbformat_minor": 0
}
